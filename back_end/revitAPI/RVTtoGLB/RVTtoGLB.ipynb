{
 "cells": [
  {
   "cell_type": "code",
   "execution_count": 1,
   "metadata": {},
   "outputs": [],
   "source": [
    "blender_script = \"\"\"\n",
    "import bpy\n",
    "\n",
    "# Paths to your input .fbx file and output .glb file\n",
    "input_fbx = \"/Users/rahilshaik/parch/revitAPI/RVTtoGLB/BLDG_BYATL-2088McKinleyRdADU_detached-3DView-FROMDRIVEWAY.fbx\"\n",
    "output_glb = \"/Users/rahilshaik/parch/revitAPI/RVTtoGLB/BLDG_BYATL-2088McKinleyRdADU_detached-3DView-FROMDRIVEWAY.glb\"\n",
    "\n",
    "# Clear existing objects in the scene\n",
    "bpy.ops.wm.read_factory_settings(use_empty=True)\n",
    "\n",
    "# Import FBX file\n",
    "bpy.ops.import_scene.fbx(filepath=input_fbx)\n",
    "\n",
    "# Export to GLB\n",
    "bpy.ops.export_scene.gltf(filepath=output_glb, export_format='GLB')\n",
    "\"\"\"\n",
    "\n",
    "script_path = \"convert_fbx_to_glb.py\"\n",
    "with open(script_path, \"w\") as file:\n",
    "    file.write(blender_script)\n"
   ]
  },
  {
   "cell_type": "code",
   "execution_count": 1,
   "metadata": {},
   "outputs": [
    {
     "name": "stdout",
     "output_type": "stream",
     "text": [
      "STDOUT: Blender 4.2.0 (hash a51f293548ad built 2024-07-16 06:26:54)\n",
      "Error: Couldn't open file '/Users/rahilshaik/parch/revitAPI/RVTtoGLB/BLDG_BYATL-2088McKinleyRdADU_detached-3DView-FROMDRIVEWAY.fbx' ([Errno 2] No such file or directory: '/Users/rahilshaik/parch/revitAPI/RVTtoGLB/BLDG_BYATL-2088McKinleyRdADU_detached-3DView-FROMDRIVEWAY.fbx')\n",
      "\n",
      "Blender quit\n",
      "\n",
      "STDERR: Traceback (most recent call last):\n",
      "  File \"/Applications/Blender.app/Contents/Resources/4.2/scripts/addons_core/io_scene_fbx/import_fbx.py\", line 3087, in load\n",
      "    elem_root, version = parse_fbx.parse(filepath)\n",
      "                         ^^^^^^^^^^^^^^^^^^^^^^^^^\n",
      "  File \"/Applications/Blender.app/Contents/Resources/4.2/scripts/addons_core/io_scene_fbx/parse_fbx.py\", line 257, in parse\n",
      "    with open(fn, 'rb') as f, multithread_decompress_array_cm as decompress_array_func:\n",
      "         ^^^^^^^^^^^^^^\n",
      "FileNotFoundError: [Errno 2] No such file or directory: '/Users/rahilshaik/parch/revitAPI/RVTtoGLB/BLDG_BYATL-2088McKinleyRdADU_detached-3DView-FROMDRIVEWAY.fbx'\n",
      "Traceback (most recent call last):\n",
      "  File \"/Users/rahilshaik/parch/parch_eng/revitAPI/RVTtoGLB/convert_fbx_to_glb.py\", line 12, in <module>\n",
      "    bpy.ops.import_scene.fbx(filepath=input_fbx)\n",
      "  File \"/Applications/Blender.app/Contents/Resources/4.2/scripts/modules/bpy/ops.py\", line 109, in __call__\n",
      "    ret = _op_call(self.idname_py(), kw)\n",
      "          ^^^^^^^^^^^^^^^^^^^^^^^^^^^^^^\n",
      "RuntimeError: Error: Couldn't open file '/Users/rahilshaik/parch/revitAPI/RVTtoGLB/BLDG_BYATL-2088McKinleyRdADU_detached-3DView-FROMDRIVEWAY.fbx' ([Errno 2] No such file or directory: '/Users/rahilshaik/parch/revitAPI/RVTtoGLB/BLDG_BYATL-2088McKinleyRdADU_detached-3DView-FROMDRIVEWAY.fbx')\n",
      "\n",
      "\n"
     ]
    }
   ],
   "source": [
    "import subprocess\n",
    "\n",
    "blender_path = \"/Applications/Blender.app/Contents/MacOS/Blender\"\n",
    "script_path = \"convert_fbx_to_glb.py\"\n",
    "result = subprocess.run([blender_path, \"--background\", \"--python\", script_path], capture_output=True, text=True)\n",
    "\n",
    "print(\"STDOUT:\", result.stdout)\n",
    "print(\"STDERR:\", result.stderr)\n"
   ]
  },
  {
   "cell_type": "code",
   "execution_count": null,
   "metadata": {},
   "outputs": [],
   "source": []
  }
 ],
 "metadata": {
  "kernelspec": {
   "display_name": "parch",
   "language": "python",
   "name": "python3"
  },
  "language_info": {
   "codemirror_mode": {
    "name": "ipython",
    "version": 3
   },
   "file_extension": ".py",
   "mimetype": "text/x-python",
   "name": "python",
   "nbconvert_exporter": "python",
   "pygments_lexer": "ipython3",
   "version": "3.9.16"
  }
 },
 "nbformat": 4,
 "nbformat_minor": 2
}
